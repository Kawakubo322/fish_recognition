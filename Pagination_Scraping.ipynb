{
  "nbformat": 4,
  "nbformat_minor": 0,
  "metadata": {
    "colab": {
      "name": "Pagination_Scraping.ipynb",
      "provenance": [],
      "collapsed_sections": [],
      "mount_file_id": "165k2LIQfNd2gJMKXuJwsDh6HE9beSEgx",
      "authorship_tag": "ABX9TyPVr8KcLgPB94aDVeDbXFAF",
      "include_colab_link": true
    },
    "kernelspec": {
      "name": "python3",
      "display_name": "Python 3"
    }
  },
  "cells": [
    {
      "cell_type": "markdown",
      "metadata": {
        "id": "view-in-github",
        "colab_type": "text"
      },
      "source": [
        "<a href=\"https://colab.research.google.com/github/Kawakubo322/fish_recognition/blob/main/Pagination_Scraping.ipynb\" target=\"_parent\"><img src=\"https://colab.research.google.com/assets/colab-badge.svg\" alt=\"Open In Colab\"/></a>"
      ]
    },
    {
      "cell_type": "markdown",
      "metadata": {
        "id": "pZKOwqK5FtrV"
      },
      "source": [
        "WEB魚図鑑からスクレイピング"
      ]
    },
    {
      "cell_type": "code",
      "metadata": {
        "id": "FHVP6avFzNpr"
      },
      "source": [
        "import requests\n",
        "import os\n",
        "from bs4 import BeautifulSoup"
      ],
      "execution_count": null,
      "outputs": []
    },
    {
      "cell_type": "code",
      "metadata": {
        "colab": {
          "base_uri": "https://localhost:8080/"
        },
        "id": "bAUHYdvZfXxZ",
        "outputId": "ffc0751c-2ced-4190-c13a-8d99b99afc64"
      },
      "source": [
        "word = input() #検索ワード。予めDriveにフォルダ作成"
      ],
      "execution_count": null,
      "outputs": [
        {
          "output_type": "stream",
          "text": [
            "マダイ\n"
          ],
          "name": "stdout"
        }
      ]
    },
    {
      "cell_type": "code",
      "metadata": {
        "id": "5ZsFiLch3uY9"
      },
      "source": [
        "def download_image(url, file_path):\n",
        "  r = requests.get(url, stream=True)\n",
        "\n",
        "  if r.status_code == 200:\n",
        "    with open(file_path, \"wb\") as f:\n",
        "      f.write(r.content)"
      ],
      "execution_count": null,
      "outputs": []
    },
    {
      "cell_type": "code",
      "metadata": {
        "id": "FAsotX784bPO"
      },
      "source": [
        "def get_image_urls(page_url):\n",
        "  img_urls = []\n",
        "\n",
        "  r = requests.get(page_url)\n",
        "\n",
        "  soup = BeautifulSoup(r.text, features=\"html.parser\")\n",
        "\n",
        "  img_tags = soup.find_all(\"img\", attrs={\"alt\": word})\n",
        "\n",
        "  for img_tag in img_tags:\n",
        "    url = img_tag.get(\"src\")\n",
        "    url = \"https://zukan.com\" + url\n",
        "\n",
        "    img_urls.append(url)\n",
        "    print(url)\n",
        "  return img_urls"
      ],
      "execution_count": null,
      "outputs": []
    },
    {
      "cell_type": "code",
      "metadata": {
        "id": "KI2GGrk25jRh"
      },
      "source": [
        "def loop_download_image(page_index, img_urls):\n",
        "  google_drive_save_dir = \"./drive/MyDrive/image/\" + word\n",
        "  for image_index, url in enumerate(img_urls):\n",
        "    file_name = \"{}_{}.jpg\".format(page_index, image_index)\n",
        "\n",
        "    image_path = os.path.join(google_drive_save_dir, file_name)\n",
        "    print(image_path)\n",
        "\n",
        "    download_image(url=url, file_path=image_path)"
      ],
      "execution_count": null,
      "outputs": []
    },
    {
      "cell_type": "code",
      "metadata": {
        "id": "I7zlO3Xa6imi"
      },
      "source": [
        "for index, n_page in enumerate(range(1, 14)):\n",
        "  print(n_page)\n",
        "  page_url = \"https://zukan.com/fish/internal38?page={}\".format(n_page) #URL変更必須\n",
        "\n",
        "  img_urls = get_image_urls(page_url)\n",
        "\n",
        "  loop_download_image(page_index=index+1, img_urls=img_urls)"
      ],
      "execution_count": null,
      "outputs": []
    }
  ]
}