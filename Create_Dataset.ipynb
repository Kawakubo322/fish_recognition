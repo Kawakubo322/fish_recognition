{
  "nbformat": 4,
  "nbformat_minor": 0,
  "metadata": {
    "colab": {
      "name": "Create_Dataset.ipynb",
      "provenance": [],
      "collapsed_sections": [],
      "mount_file_id": "15H0LU33A4BndmDLgFyqlnbZsKTf1wSCl",
      "authorship_tag": "ABX9TyP4QUtEnzKx9j2xy26VrtxB",
      "include_colab_link": true
    },
    "kernelspec": {
      "name": "python3",
      "display_name": "Python 3"
    }
  },
  "cells": [
    {
      "cell_type": "markdown",
      "metadata": {
        "id": "view-in-github",
        "colab_type": "text"
      },
      "source": [
        "<a href=\"https://colab.research.google.com/github/Kawakubo322/fish_recognition/blob/main/Create_Dataset.ipynb\" target=\"_parent\"><img src=\"https://colab.research.google.com/assets/colab-badge.svg\" alt=\"Open In Colab\"/></a>"
      ]
    },
    {
      "cell_type": "markdown",
      "metadata": {
        "id": "HK1WyGriDbUI"
      },
      "source": [
        "フォルダ内の画像からデータセットを作成"
      ]
    },
    {
      "cell_type": "code",
      "metadata": {
        "id": "PHrV5HWf-4Av",
        "colab": {
          "base_uri": "https://localhost:8080/"
        },
        "outputId": "f5240ea2-06b6-4a58-cdf6-0819ea815deb"
      },
      "source": [
        "import numpy as np\n",
        "from PIL import Image\n",
        "import os, glob, random\n",
        "from keras.preprocessing import image\n",
        "\n",
        "save_dir1 = \"/content/drive/MyDrive/image/カサゴ\"\n",
        "save_dir2 = \"/content/drive/MyDrive/image/クロダイ\"\n",
        "save_dir3 = \"/content/drive/MyDrive/image/マダイ\"\n",
        "\n",
        "outfile = \"./fish_photos.npz\"\n",
        "photo_size = 128\n",
        "x=[]\n",
        "y=[]\n",
        "\n",
        "def glob_files(path, label):\n",
        "  files = sorted(glob.glob(path+\"/*.jpg\"))\n",
        "  random.shuffle(files)\n",
        "  for f in files:\n",
        "    img = Image.open(f)\n",
        "    img = img.convert(\"RGB\")\n",
        "    img = img.resize((photo_size, photo_size))\n",
        "    img = np.asarray(img)\n",
        "    x.append(img)\n",
        "    y.append(label)\n",
        "\n",
        "glob_files(save_dir1,0)\n",
        "glob_files(save_dir2,1)\n",
        "glob_files(save_dir3,2)\n",
        "np.savez(outfile,x=x,y=y)\n",
        "print(\"保存しました：\" + outfile,len(x))"
      ],
      "execution_count": null,
      "outputs": [
        {
          "output_type": "stream",
          "text": [
            "保存しました：./fish_photos.npz 894\n"
          ],
          "name": "stdout"
        }
      ]
    }
  ]
}